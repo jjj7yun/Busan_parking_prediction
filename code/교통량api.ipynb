{
 "cells": [
  {
   "cell_type": "code",
   "execution_count": 1,
   "id": "939c5c56",
   "metadata": {},
   "outputs": [],
   "source": [
    "import urllib.request\n",
    "from urllib.parse import urlencode, quote_plus, unquote"
   ]
  },
  {
   "cell_type": "code",
   "execution_count": 2,
   "id": "6fb07853",
   "metadata": {
    "scrolled": true
   },
   "outputs": [],
   "source": [
    "from urllib.request import urlopen\n",
    "from bs4 import BeautifulSoup\n",
    "import pandas as pd\n",
    "import xml.etree.ElementTree as ET\n",
    "import json\n",
    "import pandas as pd \n",
    "from pandas.io.json import json_normalize "
   ]
  },
  {
   "cell_type": "code",
   "execution_count": 3,
   "id": "89888e7a",
   "metadata": {},
   "outputs": [
    {
     "name": "stdout",
     "output_type": "stream",
     "text": [
      "9CRAR2ZCISRgiE1cSZzKU6sqxWAa9zGe7Q6Gz5cC3iTOms0lv650qsli5wDJIf4/ds1EqNJnJqAsdbdklpj7MA==\n"
     ]
    }
   ],
   "source": [
    "decode_key = unquote('9CRAR2ZCISRgiE1cSZzKU6sqxWAa9zGe7Q6Gz5cC3iTOms0lv650qsli5wDJIf4%2Fds1EqNJnJqAsdbdklpj7MA%3D%3D')\n",
    "print(decode_key)\n",
    "servicekey = '9CRAR2ZCISRgiE1cSZzKU6sqxWAa9zGe7Q6Gz5cC3iTOms0lv650qsli5wDJIf4%2Fds1EqNJnJqAsdbdklpj7MA%3D%3D'"
   ]
  },
  {
   "cell_type": "code",
   "execution_count": 4,
   "id": "0dcc56d3",
   "metadata": {},
   "outputs": [],
   "source": [
    "url = 'http://61.43.246.153/openapi-data/service/BusanSmarttraffic/smartTrafficList'"
   ]
  },
  {
   "cell_type": "code",
   "execution_count": 15,
   "id": "be60aaca",
   "metadata": {},
   "outputs": [],
   "source": [
    "queryParams = '?' + urlencode({quote_plus('ServiceKey') : decode_key,\n",
    "                               quote_plus('searchDate') : 20201230,\n",
    "                               quote_plus('InterSection') : '대남교차로',\n",
    "                               #quote_plus('direction') : '대남교차로'\n",
    "                              })"
   ]
  },
  {
   "cell_type": "code",
   "execution_count": 16,
   "id": "db7ed699",
   "metadata": {},
   "outputs": [],
   "source": [
    "req = urllib.request\n",
    "body = req.urlopen(url + queryParams)\n",
    "req.get_method = lambda: 'GET'\n",
    "response_body = body.read()\n",
    "html = response_body"
   ]
  },
  {
   "cell_type": "code",
   "execution_count": 17,
   "id": "e9b4c3cd",
   "metadata": {},
   "outputs": [
    {
     "name": "stdout",
     "output_type": "stream",
     "text": [
      "Your Request:\n",
      "http://61.43.246.153/openapi-data/service/BusanSmarttraffic/smartTrafficList?ServiceKey=9CRAR2ZCISRgiE1cSZzKU6sqxWAa9zGe7Q6Gz5cC3iTOms0lv650qsli5wDJIf4%2Fds1EqNJnJqAsdbdklpj7MA%3D%3D&searchDate=20201230&InterSection=%EC%9A%A9%EC%86%8C%EC%82%BC%EA%B1%B0%EB%A6%AC?ServiceKey=9CRAR2ZCISRgiE1cSZzKU6sqxWAa9zGe7Q6Gz5cC3iTOms0lv650qsli5wDJIf4%2Fds1EqNJnJqAsdbdklpj7MA%3D%3D&searchDate=20201230&InterSection=%EB%8C%80%EB%82%A8%EA%B5%90%EC%B0%A8%EB%A1%9C\n"
     ]
    }
   ],
   "source": [
    "request = urllib.request.Request(url+unquote(queryParams))\n",
    "\n",
    "print ('Your Request:\\n'+url+queryParams)"
   ]
  },
  {
   "cell_type": "code",
   "execution_count": 18,
   "id": "0c70620e",
   "metadata": {},
   "outputs": [],
   "source": [
    "url = url + queryParams"
   ]
  },
  {
   "cell_type": "code",
   "execution_count": 19,
   "id": "e868ee69",
   "metadata": {
    "scrolled": true
   },
   "outputs": [
    {
     "data": {
      "text/plain": [
       "'http://61.43.246.153/openapi-data/service/BusanSmarttraffic/smartTrafficList?ServiceKey=9CRAR2ZCISRgiE1cSZzKU6sqxWAa9zGe7Q6Gz5cC3iTOms0lv650qsli5wDJIf4%2Fds1EqNJnJqAsdbdklpj7MA%3D%3D&searchDate=20201230&InterSection=%EC%9A%A9%EC%86%8C%EC%82%BC%EA%B1%B0%EB%A6%AC?ServiceKey=9CRAR2ZCISRgiE1cSZzKU6sqxWAa9zGe7Q6Gz5cC3iTOms0lv650qsli5wDJIf4%2Fds1EqNJnJqAsdbdklpj7MA%3D%3D&searchDate=20201230&InterSection=%EB%8C%80%EB%82%A8%EA%B5%90%EC%B0%A8%EB%A1%9C'"
      ]
     },
     "execution_count": 19,
     "metadata": {},
     "output_type": "execute_result"
    }
   ],
   "source": [
    "url"
   ]
  },
  {
   "cell_type": "code",
   "execution_count": 20,
   "id": "47db9063",
   "metadata": {},
   "outputs": [],
   "source": [
    "response = urllib.request.urlopen(url) \n",
    "json_str = response.read().decode(\"utf-8\")"
   ]
  },
  {
   "cell_type": "code",
   "execution_count": 21,
   "id": "898acd74",
   "metadata": {},
   "outputs": [],
   "source": [
    "tree = ET.ElementTree(ET.fromstring(json_str))\n",
    "\n",
    "note = tree.getroot()\n"
   ]
  },
  {
   "cell_type": "code",
   "execution_count": 22,
   "id": "23e27a5c",
   "metadata": {},
   "outputs": [
    {
     "data": {
      "text/html": [
       "<div>\n",
       "<style scoped>\n",
       "    .dataframe tbody tr th:only-of-type {\n",
       "        vertical-align: middle;\n",
       "    }\n",
       "\n",
       "    .dataframe tbody tr th {\n",
       "        vertical-align: top;\n",
       "    }\n",
       "\n",
       "    .dataframe thead th {\n",
       "        text-align: right;\n",
       "    }\n",
       "</style>\n",
       "<table border=\"1\" class=\"dataframe\">\n",
       "  <thead>\n",
       "    <tr style=\"text-align: right;\">\n",
       "      <th></th>\n",
       "      <th>시간</th>\n",
       "      <th>직진</th>\n",
       "      <th>좌회전</th>\n",
       "      <th>우회전</th>\n",
       "    </tr>\n",
       "  </thead>\n",
       "  <tbody>\n",
       "    <tr>\n",
       "      <th>0</th>\n",
       "      <td>0</td>\n",
       "      <td>0</td>\n",
       "      <td>0</td>\n",
       "      <td>0</td>\n",
       "    </tr>\n",
       "  </tbody>\n",
       "</table>\n",
       "</div>"
      ],
      "text/plain": [
       "   시간  직진  좌회전  우회전\n",
       "0   0   0    0    0"
      ]
     },
     "execution_count": 22,
     "metadata": {},
     "output_type": "execute_result"
    }
   ],
   "source": [
    "df = pd.DataFrame(\n",
    "        {\"시간\" : [0],\n",
    "         \"직진\" : [0],\n",
    "         \"좌회전\":[0],\n",
    "        \"우회전\":[0]})\n",
    "df"
   ]
  },
  {
   "cell_type": "code",
   "execution_count": 28,
   "id": "7b308e1f",
   "metadata": {},
   "outputs": [],
   "source": [
    "tt=[]\n",
    "go=[]\n",
    "left=[]\n",
    "right=[]\n",
    "for i in note.iter(\"clctDt\"):\n",
    "    time = i.text\n",
    "    tt.append(time)\n",
    "for i in note.iter(\"lrgGoTfvl\"):\n",
    "    time = i.text\n",
    "    go.append(time)\n",
    "for i in note.iter(\"lrgLeftTfvl\"):\n",
    "    time = i.text\n",
    "    left.append(time)\n",
    "for i in note.iter(\"lrgRghtTfvl\"):\n",
    "    time = i.text\n",
    "    right.append(time)\n"
   ]
  },
  {
   "cell_type": "code",
   "execution_count": 29,
   "id": "f909aca3",
   "metadata": {},
   "outputs": [
    {
     "data": {
      "text/plain": [
       "[]"
      ]
     },
     "execution_count": 29,
     "metadata": {},
     "output_type": "execute_result"
    }
   ],
   "source": [
    "tt"
   ]
  },
  {
   "cell_type": "code",
   "execution_count": 26,
   "id": "4dd7e96a",
   "metadata": {},
   "outputs": [
    {
     "ename": "IndexError",
     "evalue": "list index out of range",
     "output_type": "error",
     "traceback": [
      "\u001b[1;31m---------------------------------------------------------------------------\u001b[0m",
      "\u001b[1;31mIndexError\u001b[0m                                Traceback (most recent call last)",
      "\u001b[1;32m<ipython-input-26-4ba1b068de2b>\u001b[0m in \u001b[0;36m<module>\u001b[1;34m\u001b[0m\n\u001b[0;32m      1\u001b[0m \u001b[1;32mfor\u001b[0m \u001b[0mi\u001b[0m \u001b[1;32min\u001b[0m \u001b[0mrange\u001b[0m\u001b[1;33m(\u001b[0m\u001b[1;36m1\u001b[0m\u001b[1;33m)\u001b[0m\u001b[1;33m:\u001b[0m\u001b[1;33m\u001b[0m\u001b[1;33m\u001b[0m\u001b[0m\n\u001b[1;32m----> 2\u001b[1;33m     \u001b[0mdf\u001b[0m\u001b[1;33m.\u001b[0m\u001b[0mloc\u001b[0m\u001b[1;33m[\u001b[0m\u001b[0mi\u001b[0m\u001b[1;33m]\u001b[0m \u001b[1;33m=\u001b[0m \u001b[0mtt\u001b[0m\u001b[1;33m[\u001b[0m\u001b[0mi\u001b[0m\u001b[1;33m]\u001b[0m\u001b[1;33m,\u001b[0m\u001b[0mgo\u001b[0m\u001b[1;33m[\u001b[0m\u001b[0mi\u001b[0m\u001b[1;33m]\u001b[0m\u001b[1;33m,\u001b[0m\u001b[0mleft\u001b[0m\u001b[1;33m[\u001b[0m\u001b[0mi\u001b[0m\u001b[1;33m]\u001b[0m\u001b[1;33m,\u001b[0m\u001b[0mright\u001b[0m\u001b[1;33m[\u001b[0m\u001b[0mi\u001b[0m\u001b[1;33m]\u001b[0m\u001b[1;33m\u001b[0m\u001b[1;33m\u001b[0m\u001b[0m\n\u001b[0m\u001b[0;32m      3\u001b[0m     \u001b[0mprint\u001b[0m\u001b[1;33m(\u001b[0m\u001b[1;34m\"시간  \"\u001b[0m\u001b[1;33m,\u001b[0m \u001b[0mtt\u001b[0m\u001b[1;33m[\u001b[0m\u001b[0mi\u001b[0m\u001b[1;33m]\u001b[0m\u001b[1;33m,\u001b[0m \u001b[1;34m\"직진  \"\u001b[0m\u001b[1;33m,\u001b[0m \u001b[0mgo\u001b[0m\u001b[1;33m[\u001b[0m\u001b[0mi\u001b[0m\u001b[1;33m]\u001b[0m\u001b[1;33m,\u001b[0m \u001b[1;34m\"좌회전  \"\u001b[0m\u001b[1;33m,\u001b[0m\u001b[0mleft\u001b[0m\u001b[1;33m[\u001b[0m\u001b[0mi\u001b[0m\u001b[1;33m]\u001b[0m\u001b[1;33m,\u001b[0m\u001b[1;34m\"우회전  \"\u001b[0m\u001b[1;33m,\u001b[0m \u001b[0mright\u001b[0m\u001b[1;33m[\u001b[0m\u001b[0mi\u001b[0m\u001b[1;33m]\u001b[0m \u001b[1;33m)\u001b[0m\u001b[1;33m\u001b[0m\u001b[1;33m\u001b[0m\u001b[0m\n",
      "\u001b[1;31mIndexError\u001b[0m: list index out of range"
     ]
    }
   ],
   "source": [
    "for i in range(1):\n",
    "    df.loc[i] = tt[i],go[i],left[i],right[i]\n",
    "    print(\"시간  \", tt[i], \"직진  \", go[i], \"좌회전  \",left[i],\"우회전  \", right[i] )"
   ]
  },
  {
   "cell_type": "code",
   "execution_count": 23,
   "id": "5d1fa77f",
   "metadata": {},
   "outputs": [
    {
     "data": {
      "text/html": [
       "<div>\n",
       "<style scoped>\n",
       "    .dataframe tbody tr th:only-of-type {\n",
       "        vertical-align: middle;\n",
       "    }\n",
       "\n",
       "    .dataframe tbody tr th {\n",
       "        vertical-align: top;\n",
       "    }\n",
       "\n",
       "    .dataframe thead th {\n",
       "        text-align: right;\n",
       "    }\n",
       "</style>\n",
       "<table border=\"1\" class=\"dataframe\">\n",
       "  <thead>\n",
       "    <tr style=\"text-align: right;\">\n",
       "      <th></th>\n",
       "      <th>시간</th>\n",
       "      <th>직진</th>\n",
       "      <th>좌회전</th>\n",
       "      <th>우회전</th>\n",
       "    </tr>\n",
       "  </thead>\n",
       "  <tbody>\n",
       "    <tr>\n",
       "      <th>0</th>\n",
       "      <td>0</td>\n",
       "      <td>0</td>\n",
       "      <td>0</td>\n",
       "      <td>0</td>\n",
       "    </tr>\n",
       "  </tbody>\n",
       "</table>\n",
       "</div>"
      ],
      "text/plain": [
       "   시간  직진  좌회전  우회전\n",
       "0   0   0    0    0"
      ]
     },
     "execution_count": 23,
     "metadata": {},
     "output_type": "execute_result"
    }
   ],
   "source": [
    "df"
   ]
  },
  {
   "cell_type": "code",
   "execution_count": null,
   "id": "2f25d3b7",
   "metadata": {},
   "outputs": [],
   "source": []
  }
 ],
 "metadata": {
  "kernelspec": {
   "display_name": "Python 3",
   "language": "python",
   "name": "python3"
  },
  "language_info": {
   "codemirror_mode": {
    "name": "ipython",
    "version": 3
   },
   "file_extension": ".py",
   "mimetype": "text/x-python",
   "name": "python",
   "nbconvert_exporter": "python",
   "pygments_lexer": "ipython3",
   "version": "3.8.8"
  }
 },
 "nbformat": 4,
 "nbformat_minor": 5
}
